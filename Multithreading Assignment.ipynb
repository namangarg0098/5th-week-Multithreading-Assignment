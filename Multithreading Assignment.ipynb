{
 "cells": [
  {
   "cell_type": "markdown",
   "id": "3f92c8fc-ab3b-4cd0-a5d9-06a28768d25a",
   "metadata": {},
   "source": [
    "Q1 -> what is multithreading in python ? why it is used ? Name the module used to handle threads in python."
   ]
  },
  {
   "cell_type": "code",
   "execution_count": 1,
   "id": "444eff69-b5ad-4926-8886-18845a1bba59",
   "metadata": {},
   "outputs": [],
   "source": [
    "# Multithreading is defined as the ability of a processor to execute multiple threads concurrently. In a simple, single-core CPU, it is achieved using frequent switching\n",
    "# between threads.\n",
    "\n",
    "# A process of running multiple threads sumultaneously within a single process"
   ]
  },
  {
   "cell_type": "code",
   "execution_count": 2,
   "id": "a8be1f0b-7858-4785-a7d1-2d3d05acb9e9",
   "metadata": {},
   "outputs": [],
   "source": [
    "# Multithreading in Python streamlines the efficient utilization of resources as the threads share the same memory and data space. It also allows the concurrent appearance\n",
    "# of multiple tasks and reduces the response time.\n",
    "\n",
    "# To improve the performance of a program by using multiple cpus or cpu cores"
   ]
  },
  {
   "cell_type": "code",
   "execution_count": 3,
   "id": "5626a926-6524-4ab5-9a34-64a058482f05",
   "metadata": {},
   "outputs": [],
   "source": [
    "# Threading module is used to handle threads in python"
   ]
  },
  {
   "cell_type": "code",
   "execution_count": null,
   "id": "d716e5a6-c276-4afd-97ae-c9c67124255e",
   "metadata": {},
   "outputs": [],
   "source": []
  },
  {
   "cell_type": "markdown",
   "id": "4a646d40-0ce4-4930-8353-bacf15e4202d",
   "metadata": {},
   "source": [
    "Q2 -> Why threading module used ? Write the use of the following functions:"
   ]
  },
  {
   "cell_type": "code",
   "execution_count": 4,
   "id": "ae6f4795-964f-4a9e-86a6-daa12f2c156e",
   "metadata": {},
   "outputs": [],
   "source": [
    "# Python threading allows you to have different parts of your program run concurrently and can simplify your design.\n",
    "\n",
    "# Threads run in parallel improving the application performance. Each such thread has its own CPU state and stack, but they share the address space of the process and the environment.\n",
    "# Threads can share common data so they do not need to use interprocess communication.\n"
   ]
  },
  {
   "cell_type": "code",
   "execution_count": 5,
   "id": "49d6a4da-9297-4183-ab7d-0b4bf47b32ee",
   "metadata": {},
   "outputs": [],
   "source": [
    "# threading.activeCount() − Returns the number of thread objects that are active.\n",
    "# threading.currentThread() − Returns the number of thread objects in the caller's thread control.\n",
    "# threading.enumerate() − Returns a list of all thread objects that are currently active.\n",
    "\n"
   ]
  },
  {
   "cell_type": "code",
   "execution_count": 6,
   "id": "e5bc1c39-beee-4391-a5bf-31fe739ed962",
   "metadata": {},
   "outputs": [],
   "source": [
    "# In addition to the methods, the threading module has the Thread class that implements threading. The methods provided by the Thread class are as follows −\n",
    "\n",
    "# run()  − The run() method is the entry point for a thread.\n",
    "# start()  − The start() method starts a thread by calling the run method.\n",
    "# join([time])  − The join() waits for threads to terminate.\n",
    "# isAlive()  − The isAlive() method checks whether a thread is still executing.\n",
    "# getName()  − The getName() method returns the name of a thread.\n",
    "# setName()  − The setName() method sets the name of a thread.\n"
   ]
  },
  {
   "cell_type": "code",
   "execution_count": null,
   "id": "c625662a-c444-420f-b8b8-beaca04a9dbf",
   "metadata": {},
   "outputs": [],
   "source": []
  },
  {
   "cell_type": "markdown",
   "id": "051a9e67-ff93-42af-bc63-2efc33d79ad1",
   "metadata": {},
   "source": [
    "Q3 -> Explain the following functions:\n",
    "\n",
    "1> run()\n",
    "\n",
    "2> start()\n",
    "\n",
    "3> join()\n",
    "\n",
    "4> isAlive()"
   ]
  },
  {
   "cell_type": "code",
   "execution_count": null,
   "id": "715035f0-65f9-4aa8-9141-647891e6fd04",
   "metadata": {},
   "outputs": [],
   "source": [
    "# run()  − The run() method is the entry point for a thread.\n"
   ]
  },
  {
   "cell_type": "code",
   "execution_count": null,
   "id": "95ab816e-54bc-4a68-a73d-8974ba564514",
   "metadata": {},
   "outputs": [],
   "source": [
    "# start()  − The start() method starts a thread by calling the run method.\n"
   ]
  },
  {
   "cell_type": "code",
   "execution_count": null,
   "id": "a186f1e6-9aac-4380-8c70-51ceb63665ab",
   "metadata": {},
   "outputs": [],
   "source": [
    "# join([time])  − The join() waits for threads to terminate."
   ]
  },
  {
   "cell_type": "code",
   "execution_count": null,
   "id": "013f458c-2b9d-47f6-b591-747f542fb944",
   "metadata": {},
   "outputs": [],
   "source": [
    "# isAlive()  − The isAlive() method checks whether a thread is still executing."
   ]
  },
  {
   "cell_type": "code",
   "execution_count": null,
   "id": "f1b13f9d-f87c-4dac-8e03-7f3832bcbb9c",
   "metadata": {},
   "outputs": [],
   "source": []
  },
  {
   "cell_type": "markdown",
   "id": "dd8c5e77-c0c9-4535-b4bd-d838c1996504",
   "metadata": {},
   "source": [
    "Q4 -> write a python program to create two threads. Thread one must print the list of squares and thread two must print the list of cubes."
   ]
  },
  {
   "cell_type": "code",
   "execution_count": 18,
   "id": "33d39020-1328-4daa-a5aa-069a3dfe2b37",
   "metadata": {},
   "outputs": [],
   "source": [
    "import threading\n",
    "\n",
    "def squares(num):\n",
    "    print(f'This thread is use to print squares {num**2}')\n",
    "    \n",
    "def cube(num):\n",
    "    print(f'This thread is used to print cubes {num**3}')"
   ]
  },
  {
   "cell_type": "code",
   "execution_count": 14,
   "id": "c24704e3-6060-4b39-8c93-60a81ed9739c",
   "metadata": {},
   "outputs": [
    {
     "name": "stdout",
     "output_type": "stream",
     "text": [
      "This thread is use to print squares 1936\n"
     ]
    }
   ],
   "source": [
    "squares(44)"
   ]
  },
  {
   "cell_type": "code",
   "execution_count": 19,
   "id": "6627eecb-20d7-45fe-97b1-a80d57d0707c",
   "metadata": {},
   "outputs": [
    {
     "name": "stdout",
     "output_type": "stream",
     "text": [
      "This thread is used to print cubes 27\n"
     ]
    }
   ],
   "source": [
    "cube(3)"
   ]
  },
  {
   "cell_type": "code",
   "execution_count": 20,
   "id": "6cdb053e-60be-4a6d-aa1d-bb2d2670dacf",
   "metadata": {},
   "outputs": [],
   "source": [
    "sq = [threading.Thread(target = squares, args = (i, )) for i in range(10)]\n",
    "cb = [threading.Thread(target = cube, args = (i, )) for i in range(10)]"
   ]
  },
  {
   "cell_type": "code",
   "execution_count": 21,
   "id": "781fcc4b-3814-4d52-a944-ea069276e634",
   "metadata": {},
   "outputs": [
    {
     "name": "stdout",
     "output_type": "stream",
     "text": [
      "This thread is use to print squares 0\n",
      "This thread is use to print squares 1\n",
      "This thread is use to print squares 4\n",
      "This thread is use to print squares 9\n",
      "This thread is use to print squares 16\n",
      "This thread is use to print squares 25\n",
      "This thread is use to print squares 36\n",
      "This thread is use to print squares 49\n",
      "This thread is use to print squares 64\n",
      "This thread is use to print squares 81\n"
     ]
    }
   ],
   "source": [
    "for s in sq :\n",
    "    s.start()"
   ]
  },
  {
   "cell_type": "code",
   "execution_count": 22,
   "id": "4786abd9-b9e8-42dc-8769-fe2421cc9a49",
   "metadata": {},
   "outputs": [
    {
     "name": "stdout",
     "output_type": "stream",
     "text": [
      "This thread is used to print cubes 0\n",
      "This thread is used to print cubes 1\n",
      "This thread is used to print cubes 8\n",
      "This thread is used to print cubes 27\n",
      "This thread is used to print cubes 64\n",
      "This thread is used to print cubes 125\n",
      "This thread is used to print cubes 216\n",
      "This thread is used to print cubes 343\n",
      "This thread is used to print cubes 512\n",
      "This thread is used to print cubes 729\n"
     ]
    }
   ],
   "source": [
    "for c in cb :\n",
    "    c.start()"
   ]
  },
  {
   "cell_type": "code",
   "execution_count": 23,
   "id": "bfefd21a-29bd-4abb-9fac-de19b57becd7",
   "metadata": {},
   "outputs": [
    {
     "data": {
      "text/plain": [
       "[<Thread(Thread-15 (squares), stopped 140687534179904)>,\n",
       " <Thread(Thread-16 (squares), stopped 140687534179904)>,\n",
       " <Thread(Thread-17 (squares), stopped 140687534179904)>,\n",
       " <Thread(Thread-18 (squares), stopped 140687534179904)>,\n",
       " <Thread(Thread-19 (squares), stopped 140687534179904)>,\n",
       " <Thread(Thread-20 (squares), stopped 140687534179904)>,\n",
       " <Thread(Thread-21 (squares), stopped 140687534179904)>,\n",
       " <Thread(Thread-22 (squares), stopped 140687534179904)>,\n",
       " <Thread(Thread-23 (squares), stopped 140687534179904)>,\n",
       " <Thread(Thread-24 (squares), stopped 140687534179904)>]"
      ]
     },
     "execution_count": 23,
     "metadata": {},
     "output_type": "execute_result"
    }
   ],
   "source": [
    "sq"
   ]
  },
  {
   "cell_type": "code",
   "execution_count": 24,
   "id": "85d910a7-79a2-46f5-a873-4f1ce9dc4aa9",
   "metadata": {},
   "outputs": [
    {
     "data": {
      "text/plain": [
       "[<Thread(Thread-25 (cube), stopped 140687534179904)>,\n",
       " <Thread(Thread-26 (cube), stopped 140687534179904)>,\n",
       " <Thread(Thread-27 (cube), stopped 140687534179904)>,\n",
       " <Thread(Thread-28 (cube), stopped 140687534179904)>,\n",
       " <Thread(Thread-29 (cube), stopped 140687534179904)>,\n",
       " <Thread(Thread-30 (cube), stopped 140687534179904)>,\n",
       " <Thread(Thread-31 (cube), stopped 140687534179904)>,\n",
       " <Thread(Thread-32 (cube), stopped 140687534179904)>,\n",
       " <Thread(Thread-33 (cube), stopped 140687534179904)>,\n",
       " <Thread(Thread-34 (cube), stopped 140687534179904)>]"
      ]
     },
     "execution_count": 24,
     "metadata": {},
     "output_type": "execute_result"
    }
   ],
   "source": [
    "cb"
   ]
  },
  {
   "cell_type": "code",
   "execution_count": null,
   "id": "285447c4-c8b6-4f0f-853f-fef8aaa7df6f",
   "metadata": {},
   "outputs": [],
   "source": []
  },
  {
   "cell_type": "code",
   "execution_count": null,
   "id": "4808f422-92eb-498c-be13-07e898116ba6",
   "metadata": {},
   "outputs": [],
   "source": []
  },
  {
   "cell_type": "markdown",
   "id": "2d95095c-947e-4759-b535-765fd1e5631f",
   "metadata": {},
   "source": [
    "Q5 -> State advantages and disadvantages of multithreading."
   ]
  },
  {
   "cell_type": "code",
   "execution_count": 7,
   "id": "80d280c0-42d5-4c25-bee9-bdb4772a7a1c",
   "metadata": {},
   "outputs": [],
   "source": [
    "# Advantages of Multithreading\n",
    "# 1> Improved throughput. ...\n",
    "# 2> Simultaneous and fully symmetric use of multiple processors for computation and I/O.\n",
    "# 3> Superior application responsiveness. ...\n",
    "# 4> Improved server responsiveness. ...\n",
    "# 5> Minimized system resource usage. ...\n",
    "# 6> Program structure simplification. ...\n",
    "# 7> Better communication."
   ]
  },
  {
   "cell_type": "code",
   "execution_count": 8,
   "id": "ab259c49-747e-434e-a222-dee853e561d5",
   "metadata": {},
   "outputs": [],
   "source": [
    "# Here are the two main advantages: Multithreading in Python streamlines the efficient utilization of resources as the threads share the same memory and data space.\n",
    "# It also allows the concurrent appearance of multiple tasks and reduces the response time. This improves the performance.\n"
   ]
  },
  {
   "cell_type": "code",
   "execution_count": 9,
   "id": "22b130e6-b4fd-4207-a528-d8642213d508",
   "metadata": {},
   "outputs": [],
   "source": [
    "# Disadvantages of Multithreading\n",
    "# 1> Difficulty of writing code. Multithreaded and multicontexted applications are not easy to write. ...\n",
    "# 2> Difficulty of debugging. ...\n",
    "# 3> Difficulty of managing concurrency. ...\n",
    "# 4> Difficulty of testing. ...\n",
    "# 5> Difficulty of porting existing code."
   ]
  },
  {
   "cell_type": "code",
   "execution_count": null,
   "id": "0c4df400-79ce-4f89-9845-df87ee2da342",
   "metadata": {},
   "outputs": [],
   "source": []
  },
  {
   "cell_type": "code",
   "execution_count": null,
   "id": "11430605-6f29-4617-bddb-1b409da564cb",
   "metadata": {},
   "outputs": [],
   "source": []
  },
  {
   "cell_type": "markdown",
   "id": "d0a398c3-b21f-4889-ab6e-98202fb8bbce",
   "metadata": {},
   "source": [
    "Q6 -> Explain deadlocks and race conditions "
   ]
  },
  {
   "cell_type": "code",
   "execution_count": 10,
   "id": "7f845e81-a153-47ba-b6ee-0051f4bb1b3a",
   "metadata": {},
   "outputs": [],
   "source": [
    "# A deadlock is a concurrency failure mode where a thread or threads wait for a condition that never occurs.\n",
    "# The result is that the deadlock threads are unable to progress and the program is stuck or frozen and must be terminated forcefully.\n"
   ]
  },
  {
   "cell_type": "code",
   "execution_count": 11,
   "id": "3c969cb7-3b35-4404-b85c-9459663b0834",
   "metadata": {},
   "outputs": [],
   "source": [
    "# A race condition is an undesirable situation that occurs when a device or system attempts to perform two or more operations at the same time,\n",
    "# but because of the nature of the device or system, the operations must be done in the proper sequence to be done correctly.\n"
   ]
  },
  {
   "cell_type": "code",
   "execution_count": null,
   "id": "97fc9cf5-b4f0-4ca0-9bd1-3ac82759770f",
   "metadata": {},
   "outputs": [],
   "source": []
  },
  {
   "cell_type": "code",
   "execution_count": null,
   "id": "bf0c5e7b-2d8b-45af-b2e7-a1a5ba517593",
   "metadata": {},
   "outputs": [],
   "source": []
  },
  {
   "cell_type": "code",
   "execution_count": null,
   "id": "7b6709da-a94d-442d-8213-5f97268eea97",
   "metadata": {},
   "outputs": [],
   "source": []
  },
  {
   "cell_type": "code",
   "execution_count": null,
   "id": "bb407458-fa2e-4790-bc29-ef6f018a4abd",
   "metadata": {},
   "outputs": [],
   "source": []
  }
 ],
 "metadata": {
  "kernelspec": {
   "display_name": "Python 3 (ipykernel)",
   "language": "python",
   "name": "python3"
  },
  "language_info": {
   "codemirror_mode": {
    "name": "ipython",
    "version": 3
   },
   "file_extension": ".py",
   "mimetype": "text/x-python",
   "name": "python",
   "nbconvert_exporter": "python",
   "pygments_lexer": "ipython3",
   "version": "3.10.8"
  }
 },
 "nbformat": 4,
 "nbformat_minor": 5
}
